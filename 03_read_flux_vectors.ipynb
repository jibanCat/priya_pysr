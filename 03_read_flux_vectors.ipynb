{
 "cells": [
  {
   "cell_type": "code",
   "execution_count": 7,
   "metadata": {},
   "outputs": [],
   "source": [
    "import sys, os\n",
    "\n",
    "## Include previous level directories to the module import path\n",
    "sys.path.insert(0, os.path.abspath(os.path.join(\"..\")))\n",
    "\n",
    "import numpy as np\n",
    "import argparse\n",
    "\n",
    "from lyaemu import gp_wrap as lk\n",
    "\n",
    "from cobaya.yaml import yaml_load_file\n",
    "import arviz as az\n",
    "\n",
    "# Export the results to GetDist\n",
    "from getdist.mcsamples import loadMCSamples\n",
    "import getdist.plots as gdplt\n",
    "\n",
    "\n",
    "from matplotlib import pyplot as plt\n",
    "import matplotlib\n",
    "\n",
    "from lyaemu.priya_explorer import PRIYAEmulatorExplorer"
   ]
  },
  {
   "cell_type": "markdown",
   "metadata": {},
   "source": [
    "Cut at kmax 9\n"
   ]
  },
  {
   "cell_type": "code",
   "execution_count": 8,
   "metadata": {},
   "outputs": [
    {
     "name": "stdout",
     "output_type": "stream",
     "text": [
      "<KeysViewHDF5 ['flux_vectors', 'kfkms', 'kfmpc', 'params', 'zout']>\n",
      "kmax: 9.00589894029074\n"
     ]
    },
    {
     "data": {
      "text/plain": [
       "((30, 2236), (30, 13, 172), (30, 2236), (13,), (30, 10))"
      ]
     },
     "execution_count": 8,
     "metadata": {},
     "output_type": "execute_result"
    }
   ],
   "source": [
    "import h5py\n",
    "\n",
    "with h5py.File(\n",
    "    \"../Emulator_Files_KS/hires/mf_emulator_flux_vectors_tau1000000_cut.hdf5\", \"r\"\n",
    ") as file:\n",
    "    print(file.keys())\n",
    "\n",
    "    flux_vectors = file[\"flux_vectors\"][:]\n",
    "    kfkms = file[\"kfkms\"][:]\n",
    "    kfmpc = file[\"kfmpc\"][:]\n",
    "    zout = file[\"zout\"][:]\n",
    "    params = file[\"params\"][:]\n",
    "\n",
    "param_names = {\n",
    "    \"tau0\": 0,\n",
    "    \"ns\": 1,\n",
    "    \"Ap\": 2,\n",
    "    \"herei\": 3,\n",
    "    \"heref\": 4,\n",
    "    \"alphaq\": 5,\n",
    "    \"hub\": 6,\n",
    "    \"omegamh2\": 7,\n",
    "    \"hireionz\": 8,\n",
    "    \"bhfeedback\": 9,\n",
    "}\n",
    "\n",
    "print(\"kmax:\", kfmpc.max())\n",
    "flux_vectors.shape, kfkms.shape, flux_vectors.shape, zout.shape, params.shape"
   ]
  },
  {
   "cell_type": "markdown",
   "metadata": {},
   "source": [
    "No cut, kamx = 17.2\n"
   ]
  },
  {
   "cell_type": "code",
   "execution_count": 2,
   "metadata": {},
   "outputs": [
    {
     "name": "stdout",
     "output_type": "stream",
     "text": [
      "<KeysViewHDF5 ['flux_vectors', 'kfkms', 'kfmpc', 'params', 'zout']>\n",
      "kmax: 17.226399717184034\n"
     ]
    },
    {
     "data": {
      "text/plain": [
       "((600, 4277), (600, 13, 329), (600, 4277), (13,), (600, 10))"
      ]
     },
     "execution_count": 2,
     "metadata": {},
     "output_type": "execute_result"
    }
   ],
   "source": [
    "import h5py\n",
    "\n",
    "\n",
    "with h5py.File(\n",
    "    \"../Emulator_Files_KS/mf_emulator_flux_vectors_tau1000000.hdf5\", \"r\"\n",
    ") as file:\n",
    "    print(file.keys())\n",
    "\n",
    "    flux_vectors = file[\"flux_vectors\"][:]\n",
    "    kfkms = file[\"kfkms\"][:]\n",
    "    kfmpc = file[\"kfmpc\"][:]\n",
    "    zout = file[\"zout\"][:]\n",
    "    params = file[\"params\"][:]\n",
    "\n",
    "param_names = {\n",
    "    \"tau0\": 0,\n",
    "    \"ns\": 1,\n",
    "    \"Ap\": 2,\n",
    "    \"herei\": 3,\n",
    "    \"heref\": 4,\n",
    "    \"alphaq\": 5,\n",
    "    \"hub\": 6,\n",
    "    \"omegamh2\": 7,\n",
    "    \"hireionz\": 8,\n",
    "    \"bhfeedback\": 9,\n",
    "}\n",
    "\n",
    "print(\"kmax:\", kfmpc.max())\n",
    "flux_vectors.shape, kfkms.shape, flux_vectors.shape, zout.shape, params.shape"
   ]
  },
  {
   "cell_type": "markdown",
   "metadata": {},
   "source": [
    "hires file, no cut\n"
   ]
  },
  {
   "cell_type": "code",
   "execution_count": 6,
   "metadata": {},
   "outputs": [
    {
     "name": "stdout",
     "output_type": "stream",
     "text": [
      "<KeysViewHDF5 ['flux_vectors', 'kfkms', 'kfmpc', 'params', 'zout']>\n",
      "kmax: 17.226399717184034\n"
     ]
    },
    {
     "data": {
      "text/plain": [
       "((30, 4277), (30, 13, 329), (30, 4277), (13,), (30, 10))"
      ]
     },
     "execution_count": 6,
     "metadata": {},
     "output_type": "execute_result"
    }
   ],
   "source": [
    "import h5py\n",
    "\n",
    "\n",
    "with h5py.File(\n",
    "    \"../Emulator_Files_KS/hires/mf_emulator_flux_vectors_tau1000000.hdf5\", \"r\"\n",
    ") as file:\n",
    "    print(file.keys())\n",
    "\n",
    "    flux_vectors = file[\"flux_vectors\"][:]\n",
    "    kfkms = file[\"kfkms\"][:]\n",
    "    kfmpc = file[\"kfmpc\"][:]\n",
    "    zout = file[\"zout\"][:]\n",
    "    params = file[\"params\"][:]\n",
    "\n",
    "param_names = {\n",
    "    \"tau0\": 0,\n",
    "    \"ns\": 1,\n",
    "    \"Ap\": 2,\n",
    "    \"herei\": 3,\n",
    "    \"heref\": 4,\n",
    "    \"alphaq\": 5,\n",
    "    \"hub\": 6,\n",
    "    \"omegamh2\": 7,\n",
    "    \"hireionz\": 8,\n",
    "    \"bhfeedback\": 9,\n",
    "}\n",
    "\n",
    "print(\"kmax:\", kfmpc.max())\n",
    "flux_vectors.shape, kfkms.shape, flux_vectors.shape, zout.shape, params.shape"
   ]
  },
  {
   "cell_type": "code",
   "execution_count": 3,
   "metadata": {},
   "outputs": [
    {
     "name": "stdout",
     "output_type": "stream",
     "text": [
      "0.0003865927411592488 0.12718901184139286\n",
      "0.00039342028501791786 0.12943527377089498\n",
      "0.0005002628607195388 0.16458648117672828\n"
     ]
    }
   ],
   "source": [
    "# 0 sim 0 z bin\n",
    "print(kfkms[0, 0, :].min(), kfkms[0, 0, :].max())\n",
    "# 0 sim 1 z bin\n",
    "print(kfkms[0, 1, :].min(), kfkms[0, 1, :].max())\n",
    "# 61 sim 12 z bin\n",
    "print(kfkms[61, 12, :].min(), kfkms[61, 12, :].max())"
   ]
  },
  {
   "cell_type": "code",
   "execution_count": 4,
   "metadata": {},
   "outputs": [],
   "source": [
    "%matplotlib inline"
   ]
  },
  {
   "cell_type": "code",
   "execution_count": 5,
   "metadata": {},
   "outputs": [
    {
     "data": {
      "image/png": "[encoded data removed]",
      "text/plain": [
       "<Figure size 640x480 with 1 Axes>"
      ]
     },
     "metadata": {},
     "output_type": "display_data"
    }
   ],
   "source": [
    "plt.plot(params[:, 0], label=\"tau0\")\n",
    "plt.plot(params[:, 1], label=\"ns\")\n",
    "plt.legend()\n",
    "plt.show()"
   ]
  }
 ],
 "metadata": {
  "kernelspec": {
   "display_name": "Python 3",
   "language": "python",
   "name": "python3"
  },
  "language_info": {
   "codemirror_mode": {
    "name": "ipython",
    "version": 3
   },
   "file_extension": ".py",
   "mimetype": "text/x-python",
   "name": "python",
   "nbconvert_exporter": "python",
   "pygments_lexer": "ipython3",
   "version": "3.9.13"
  }
 },
 "nbformat": 4,
 "nbformat_minor": 2
}
